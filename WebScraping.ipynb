{
 "cells": [
  {
   "cell_type": "code",
   "execution_count": 1,
   "metadata": {},
   "outputs": [],
   "source": [
    "import urllib.request\n",
    "from bs4 import BeautifulSoup as bs\n",
    "import re\n",
    "import pandas as pd"
   ]
  },
  {
   "cell_type": "markdown",
   "metadata": {},
   "source": [
    "# Extract and Store Function Names & Usage\n",
    "<br>\n",
    "From the Python Documentation - Random Functions webpage: https://docs.python.org/3/library/random.html\n"
   ]
  },
  {
   "cell_type": "code",
   "execution_count": 8,
   "metadata": {},
   "outputs": [
    {
     "name": "stdout",
     "output_type": "stream",
     "text": [
      "list of function names: ['random.seed', 'random.getstate', 'random.setstate', 'random.getrandbits', 'random.randrange']\n",
      "\n",
      "function description: Initialize the random number generator. If a is omitted or None, the current system time is used.  If randomness sources are provided by the operating system, they are used instead of the system time (see the os.urandom() function for details on availability). If a is an int, it is used directly. With version 2 (the default), a str, bytes, or bytearray object gets converted to an int and all of its bits are used. With version 1 (provided for reproducing random sequences from older versions of Python), the algorithm for str and bytes generates a narrower range of seeds.  Changed in version 3.2: Moved to the version 2 scheme which uses all of the bits in a string seed.  \n",
      "\n",
      "number of items in function names: 24\n",
      "number of items in function description: 24\n"
     ]
    }
   ],
   "source": [
    "#load html code from a url\n",
    "page = urllib.request.urlopen(\"https://docs.python.org/3/library/random.html\")\n",
    "soup = bs(page)\n",
    "\n",
    "#find all function names\n",
    "names = soup.body.findAll('dt')\n",
    "function_names = re.findall('id=\"random.\\w+', str(names))\n",
    "function_names = [item[4:] for item in function_names]\n",
    "\n",
    "#find all function descriptions\n",
    "description = soup.body.findAll('dd')\n",
    "function_usage = []\n",
    "\n",
    "for item in description:\n",
    "  item = item.text\n",
    "  item = item.replace('\\n', ' ')\n",
    "  function_usage.append(item)\n",
    "\n",
    "print('list of function names:',function_names[:5])\n",
    "print('\\nfunction description:', function_usage[0])\n",
    "print('\\nnumber of items in function names:', len(function_names))\n",
    "print('number of items in function description:', len(function_usage))"
   ]
  },
  {
   "cell_type": "markdown",
   "metadata": {},
   "source": [
    "# Store Data inside a DataFrame\n",
    "<br>\n",
    "After ensuring the lenghts of both lists match"
   ]
  },
  {
   "cell_type": "code",
   "execution_count": 4,
   "metadata": {},
   "outputs": [
    {
     "data": {
      "text/html": [
       "<div>\n",
       "<style scoped>\n",
       "    .dataframe tbody tr th:only-of-type {\n",
       "        vertical-align: middle;\n",
       "    }\n",
       "\n",
       "    .dataframe tbody tr th {\n",
       "        vertical-align: top;\n",
       "    }\n",
       "\n",
       "    .dataframe thead th {\n",
       "        text-align: right;\n",
       "    }\n",
       "</style>\n",
       "<table border=\"1\" class=\"dataframe\">\n",
       "  <thead>\n",
       "    <tr style=\"text-align: right;\">\n",
       "      <th></th>\n",
       "      <th>function name</th>\n",
       "      <th>function usage</th>\n",
       "    </tr>\n",
       "  </thead>\n",
       "  <tbody>\n",
       "    <tr>\n",
       "      <th>0</th>\n",
       "      <td>random.seed</td>\n",
       "      <td>Initialize the random number generator. If a i...</td>\n",
       "    </tr>\n",
       "    <tr>\n",
       "      <th>1</th>\n",
       "      <td>random.getstate</td>\n",
       "      <td>Return an object capturing the current interna...</td>\n",
       "    </tr>\n",
       "    <tr>\n",
       "      <th>2</th>\n",
       "      <td>random.setstate</td>\n",
       "      <td>state should have been obtained from a previou...</td>\n",
       "    </tr>\n",
       "    <tr>\n",
       "      <th>3</th>\n",
       "      <td>random.getrandbits</td>\n",
       "      <td>Returns a Python integer with k random bits. T...</td>\n",
       "    </tr>\n",
       "    <tr>\n",
       "      <th>4</th>\n",
       "      <td>random.randrange</td>\n",
       "      <td>Return a randomly selected element from range(...</td>\n",
       "    </tr>\n",
       "  </tbody>\n",
       "</table>\n",
       "</div>"
      ],
      "text/plain": [
       "        function name                                     function usage\n",
       "0         random.seed  Initialize the random number generator. If a i...\n",
       "1     random.getstate  Return an object capturing the current interna...\n",
       "2     random.setstate  state should have been obtained from a previou...\n",
       "3  random.getrandbits  Returns a Python integer with k random bits. T...\n",
       "4    random.randrange  Return a randomly selected element from range(..."
      ]
     },
     "execution_count": 4,
     "metadata": {},
     "output_type": "execute_result"
    }
   ],
   "source": [
    "#create a dataframe\n",
    "data = pd.DataFrame({'function name': function_names, 'function usage': function_usage})\n",
    "data.head()"
   ]
  },
  {
   "cell_type": "markdown",
   "metadata": {},
   "source": [
    "# Exort Data into a csv file\n",
    "<br>\n",
    "The file will be saved in the same directory as the notebook"
   ]
  },
  {
   "cell_type": "code",
   "execution_count": 5,
   "metadata": {},
   "outputs": [],
   "source": [
    "data.to_csv('my_file.csv')"
   ]
  }
 ],
 "metadata": {
  "kernelspec": {
   "display_name": "Python 3",
   "language": "python",
   "name": "python3"
  },
  "language_info": {
   "codemirror_mode": {
    "name": "ipython",
    "version": 3
   },
   "file_extension": ".py",
   "mimetype": "text/x-python",
   "name": "python",
   "nbconvert_exporter": "python",
   "pygments_lexer": "ipython3",
   "version": "3.7.4"
  }
 },
 "nbformat": 4,
 "nbformat_minor": 2
}
